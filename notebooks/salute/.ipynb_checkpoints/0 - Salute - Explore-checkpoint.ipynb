{
 "cells": [
  {
   "cell_type": "markdown",
   "metadata": {},
   "source": [
    "**Esplorazione Dataset comuni Toscana**\n",
    "\n",
    "Importiamo pandas e salviamo il dataset in un DataFrame. "
   ]
  },
  {
   "cell_type": "code",
   "execution_count": null,
   "metadata": {
    "collapsed": false
   },
   "outputs": [],
   "source": [
    "import pandas as pd"
   ]
  },
  {
   "cell_type": "code",
   "execution_count": null,
   "metadata": {
    "collapsed": false
   },
   "outputs": [],
   "source": [
    "df = pd.read_csv(\"../datasets/salute/osservatori_comuni.csv\")\n",
    "df.head(5)"
   ]
  },
  {
   "cell_type": "markdown",
   "metadata": {},
   "source": [
    "Il DataFrame è organizzato in maniera da salvare i dati rilevanti in diverse colonne a seconda dell'anno di rilevazione. Per sapere a quale dato si riferisce una cella bisogna fare riferimento al valore nella colonna _nome indicatore_. \n",
    "\n",
    "Trasformiamo la struttura del DataFrame in una più facile da analizzare utilizzando _pandas_. \n",
    "\n",
    "La struttura sarà la seguente\n",
    "\n",
    "| Comune        | Anno          | Indicatore 1  | Indicatore 2  | ... |\n",
    "| ------------- |:-------------:| -------------:| -------------:| ---:| \n",
    "| Firenze       | 2007          | 1600          | 45            | ... |\n",
    "| Vaiano        | 2008          |   12          | 55            | ... |\n",
    "| Vernio        | 2009          |    1          | 66            | ... |"
   ]
  },
  {
   "cell_type": "markdown",
   "metadata": {},
   "source": [
    "Andiamo a guardare gli indicatori presenti nel DataFrame e selezioniamo quelli di interesse"
   ]
  },
  {
   "cell_type": "code",
   "execution_count": null,
   "metadata": {
    "collapsed": false,
    "scrolled": true
   },
   "outputs": [],
   "source": [
    "df.nome_indicatore.unique()"
   ]
  },
  {
   "cell_type": "code",
   "execution_count": null,
   "metadata": {
    "collapsed": false
   },
   "outputs": [],
   "source": [
    "interesting_feat = [\"Produzione pro-capite Rifiuti Urbani\",\"Reddito imponibile medio per contribuente\",\n",
    "                    \"Numero medio componenti per famiglie\",\"% di Raccolta Differenziata\",\n",
    "                    \"Reddito imponibile medio per residente\",\"Rapporto tra avviamenti/cessazioni (x 100)\",\n",
    "                    \"Rapporto tra avviamenti/cessazioni di stranieri (x 100)\",'Tasso grezzo di disoccupazione (x100)',\n",
    "                    \"Tasso grezzo di disoccupazione stranieri (x100)\",\"Quoziente di incremento totale (x 1.000)\",\n",
    "                    \"Percentuale nati di cittadinanza non italiana\",\"Tasso di pensioni sociali e assegni sociali (x 100)\",\n",
    "                    \"Percentuale studenti con esito negativo - secondaria II grado\",\n",
    "                    \"Superamento dei limiti normativi dovuti a Srb: numero superamenti limite di esposizione e limite di attenzione\",\n",
    "                    \"Superamento dei limiti normativi dovuti a impianti Rtv: numero superamenti limite di esposizione e limite di attenzione\",\n",
    "                    \"Percentuale di avviamenti a termine\",\"Percentuale studenti con esito negativo - secondaria I grado\"]\n",
    "#interesting_feat = list(df.nome_indicatore.unique())"
   ]
  },
  {
   "cell_type": "markdown",
   "metadata": {},
   "source": [
    "Possiamo ora ridurre le dimensioni del DataFrame e salvare soltanto le righe con gli indicatori di interesse. \n",
    "Chiamiamo il nuovo DataFrame *df_skim*."
   ]
  },
  {
   "cell_type": "code",
   "execution_count": null,
   "metadata": {
    "collapsed": false
   },
   "outputs": [],
   "source": [
    "df_skim = df[df.nome_indicatore.isin(interesting_feat)]"
   ]
  },
  {
   "cell_type": "code",
   "execution_count": null,
   "metadata": {
    "collapsed": false,
    "scrolled": false
   },
   "outputs": [],
   "source": [
    "df_skim.head(5)"
   ]
  },
  {
   "cell_type": "markdown",
   "metadata": {},
   "source": [
    "Salviamo ora la lista dei comuni che ci serve per raggruppare gli indicatori per comune e anno di rilevazione in un nuovo DataFrame. "
   ]
  },
  {
   "cell_type": "code",
   "execution_count": null,
   "metadata": {
    "collapsed": false,
    "scrolled": true
   },
   "outputs": [],
   "source": [
    "list_comuni = df_skim.comuni.unique()\n",
    "print list_comuni"
   ]
  },
  {
   "cell_type": "markdown",
   "metadata": {},
   "source": [
    "Salviamo ora i dati relativi ai comuni in una lista di n-tuple. \n",
    "Le n-tuple avranno come prime 2 entry il nome del comune e l'anno. Le restanti entry sono le _interesting feat_ che abbiamo definito sopra. "
   ]
  },
  {
   "cell_type": "code",
   "execution_count": null,
   "metadata": {
    "collapsed": false,
    "scrolled": true
   },
   "outputs": [],
   "source": [
    "test_list = []\n",
    "for com in list_comuni:\n",
    "    for year in range(2007,2015):\n",
    "        test_tuple = (com,year)\n",
    "        for name in interesting_feat:\n",
    "            #print name\n",
    "            df_temp = df_skim[(df_skim[\"nome_indicatore\"] == name) & (df_skim[\"comuni\"]==com)]\n",
    "            #print df_temp[\"2007\"]\n",
    "            #print df_temp.shape\n",
    "            if df_temp.empty == True: \n",
    "                continue\n",
    "            test_tuple = test_tuple + (df_temp.iloc[0][str(year)],)\n",
    "    \n",
    "        test_list.append(test_tuple)\n"
   ]
  },
  {
   "cell_type": "markdown",
   "metadata": {},
   "source": [
    "Creiamo un nuovo DataFrame _df new_ a partire dalla lista di n-tuple creata sopra."
   ]
  },
  {
   "cell_type": "code",
   "execution_count": null,
   "metadata": {
    "collapsed": false
   },
   "outputs": [],
   "source": [
    "df_new = pd.DataFrame(test_list,columns=[\"comune\",\"year\"]+interesting_feat)"
   ]
  },
  {
   "cell_type": "markdown",
   "metadata": {},
   "source": [
    "Controlliamo adesso che tutto sia andato bene. \n",
    "Possiamo fare un cross-check per uno dei comuni. Prendiamo i dati dal DataFrame originale e li confrontiamo con il DataFrame appena creato. \n",
    "Usiamo il comune di \"Pratovecchio Stia\" per il confronto. "
   ]
  },
  {
   "cell_type": "code",
   "execution_count": null,
   "metadata": {
    "collapsed": false,
    "scrolled": true
   },
   "outputs": [],
   "source": [
    "df_skim[df_skim.comuni==\"Pratovecchio Stia\"]"
   ]
  },
  {
   "cell_type": "code",
   "execution_count": null,
   "metadata": {
    "collapsed": false,
    "scrolled": true
   },
   "outputs": [],
   "source": [
    "df_new[df_new.comune==\"Pratovecchio Stia\"]"
   ]
  },
  {
   "cell_type": "markdown",
   "metadata": {},
   "source": [
    "Campionando alcune celle dal primo DataFrame e conforntandole con il secondo sembra che i valori corrispondano. \n",
    "Check passato. \n",
    "\n",
    "Salviamo ora il nuovo DataFrame in un file _csv_ per la futura analisi. "
   ]
  },
  {
   "cell_type": "code",
   "execution_count": null,
   "metadata": {
    "collapsed": true
   },
   "outputs": [],
   "source": [
    "df_new.to_csv(\"../datasets/salute/osservatori_comuni_cleaned.csv\")"
   ]
  },
  {
   "cell_type": "code",
   "execution_count": null,
   "metadata": {
    "collapsed": true
   },
   "outputs": [],
   "source": []
  }
 ],
 "metadata": {
  "kernelspec": {
   "display_name": "Python 2",
   "language": "python",
   "name": "python2"
  },
  "language_info": {
   "codemirror_mode": {
    "name": "ipython",
    "version": 2
   },
   "file_extension": ".py",
   "mimetype": "text/x-python",
   "name": "python",
   "nbconvert_exporter": "python",
   "pygments_lexer": "ipython2",
   "version": "2.7.10"
  }
 },
 "nbformat": 4,
 "nbformat_minor": 0
}
